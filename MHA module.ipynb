{
 "cells": [
  {
   "cell_type": "code",
   "execution_count": 1,
   "id": "a73cbba2",
   "metadata": {},
   "outputs": [
    {
     "name": "stdout",
     "output_type": "stream",
     "text": [
      "Wed Aug 31 22:17:11 2022       \n",
      "+-----------------------------------------------------------------------------+\n",
      "| NVIDIA-SMI 516.94       Driver Version: 516.94       CUDA Version: 11.7     |\n",
      "|-------------------------------+----------------------+----------------------+\n",
      "| GPU  Name            TCC/WDDM | Bus-Id        Disp.A | Volatile Uncorr. ECC |\n",
      "| Fan  Temp  Perf  Pwr:Usage/Cap|         Memory-Usage | GPU-Util  Compute M. |\n",
      "|                               |                      |               MIG M. |\n",
      "|===============================+======================+======================|\n",
      "|   0  NVIDIA GeForce ... WDDM  | 00000000:01:00.0 Off |                  N/A |\n",
      "| N/A   39C    P8     2W /  N/A |    273MiB /  4096MiB |      5%      Default |\n",
      "|                               |                      |                  N/A |\n",
      "+-------------------------------+----------------------+----------------------+\n",
      "                                                                               \n",
      "+-----------------------------------------------------------------------------+\n",
      "| Processes:                                                                  |\n",
      "|  GPU   GI   CI        PID   Type   Process name                  GPU Memory |\n",
      "|        ID   ID                                                   Usage      |\n",
      "|=============================================================================|\n",
      "|    0   N/A  N/A      3608    C+G   ...ller\\Ryzen Controller.exe    N/A      |\n",
      "|    0   N/A  N/A      4812    C+G   ...2txyewy\\TextInputHost.exe    N/A      |\n",
      "|    0   N/A  N/A      6880    C+G   ...ext\\CNext\\AMDRSSrcExt.exe    N/A      |\n",
      "|    0   N/A  N/A      7512    C+G   ...cw5n1h2txyewy\\LockApp.exe    N/A      |\n",
      "|    0   N/A  N/A      9244    C+G   ...5n1h2txyewy\\SearchApp.exe    N/A      |\n",
      "|    0   N/A  N/A     15632    C+G   ...ser\\Application\\brave.exe    N/A      |\n",
      "|    0   N/A  N/A     16040    C+G   ...pp-2.2230.15\\WhatsApp.exe    N/A      |\n",
      "+-----------------------------------------------------------------------------+\n"
     ]
    }
   ],
   "source": [
    "\n",
    "#Shaun Jacob Varghese\n",
    "#Varun Ram S\n",
    "\n",
    "\n",
    "import pandas as pd\n",
    "import numpy as np\n",
    "import cv2 as cv2\n",
    "import matplotlib.pyplot as plt\n",
    "import keras\n",
    "import tensorflow as tf\n",
    "from tensorflow.keras.layers import MultiHeadAttention\n",
    "from keras.layers.merge import concatenate\n",
    "from tensorflow.keras.models import Sequential\n",
    "from tensorflow.keras.layers import Conv2D\n",
    "from tensorflow.keras.layers import MaxPool2D\n",
    "from tensorflow.keras.layers import Flatten\n",
    "from tensorflow.keras.layers import Dropout\n",
    "from tensorflow.keras.layers import Dense\n",
    "from keras.models import Model\n",
    "from keras.layers import Input\n",
    "from keras.layers.merge import concatenate\n",
    "from keras.utils.vis_utils import plot_model\n",
    "!nvidia-smi"
   ]
  },
  {
   "cell_type": "code",
   "execution_count": 2,
   "id": "bf571f53",
   "metadata": {},
   "outputs": [
    {
     "name": "stdout",
     "output_type": "stream",
     "text": [
      "Train of X and Y is: (50000, 32, 32, 3) (50000, 1)\n"
     ]
    }
   ],
   "source": [
    "from keras.datasets import cifar10\n",
    "(trainx,trainy),(testx,testy) = cifar10.load_data()\n",
    "\n",
    "print(\"Train of X and Y is:\",(trainx.shape),(trainy.shape))"
   ]
  },
  {
   "cell_type": "code",
   "execution_count": 3,
   "id": "e421c22d",
   "metadata": {},
   "outputs": [
    {
     "name": "stdout",
     "output_type": "stream",
     "text": [
      "Train of X and Y is: (50000, 32, 32, 3) (50000, 1)\n"
     ]
    }
   ],
   "source": [
    "\n",
    "from keras.datasets import cifar10\n",
    "(trainx,trainy),(testx,testy) = cifar10.load_data()\n",
    "\n",
    "print(\"Train of X and Y is:\",(trainx.shape),(trainy.shape))"
   ]
  },
  {
   "cell_type": "code",
   "execution_count": 4,
   "id": "48de47c2",
   "metadata": {},
   "outputs": [],
   "source": [
    "trainx = trainx.astype('float32') \n",
    "testx = testx.astype('float32') \n",
    "trainx = trainx / 255.0 \n",
    "testx = testx / 255.0\n",
    "\n",
    "from keras.utils import np_utils \n",
    "trainy = np_utils.to_categorical(trainy) \n",
    "testy = np_utils.to_categorical(testy) \n",
    "num_classes = testy.shape[1]\n",
    "\n",
    "\n"
   ]
  },
  {
   "cell_type": "code",
   "execution_count": 5,
   "id": "ef347b83",
   "metadata": {},
   "outputs": [],
   "source": [
    "temp=Input(shape=(64,64,1))\n",
    "\n",
    "c1=keras.layers.Conv2D(32, (7, 7), input_shape=(32,32,7), activation='relu', padding='same')(temp)\n",
    "p1=keras.layers.MaxPool2D(pool_size=(2, 2))(c1)\n",
    "\n",
    "\n",
    "x1=keras.layers.Conv2D(64,(1,1),input_shape=(64,64,1), activation='relu', padding='same')(p1)\n",
    "x2=keras.layers.Conv2D(64,(3,3),input_shape=(64,64,3), activation='relu', padding='same')(p1)\n",
    "x3=keras.layers.Conv2D(64,(5,5),input_shape=(64,64,5), activation='relu', padding='same')(p1)\n",
    "x4=keras.layers.MaxPool2D(pool_size=(2,1))(p1)\n",
    "x5=keras.layers.Conv2D(64,(1,1))(x4)"
   ]
  },
  {
   "cell_type": "code",
   "execution_count": 6,
   "id": "789a06e2",
   "metadata": {},
   "outputs": [],
   "source": [
    "from scipy.special import softmax"
   ]
  },
  {
   "cell_type": "code",
   "execution_count": 7,
   "id": "f7778d7d",
   "metadata": {},
   "outputs": [],
   "source": [
    "#We will flatten after getting I1 to I4\n",
    "y1=keras.layers.Flatten()(x1)\n",
    "y2=keras.layers.Flatten()(x2)\n",
    "y3=keras.layers.Flatten()(x3)\n",
    "y5=keras.layers.Flatten()(x5)\n",
    "#P(H,W,C) ppart of the research paper\n",
    "par1_1=keras.layers.Dense(64,activation='relu')(y1)\n",
    "par1_2=keras.layers.Dense(64,activation='relu')(y1)\n",
    "par1_3=keras.layers.Dense(64,activation='relu')(y1)\n",
    "\n",
    "par2_1=keras.layers.Dense(64,activation='relu')(y2)\n",
    "par2_2=keras.layers.Dense(64,activation='relu')(y2)\n",
    "par2_3=keras.layers.Dense(64,activation='relu')(y2)\n",
    "\n",
    "par3_1=keras.layers.Dense(64,activation='relu')(y3)\n",
    "par3_2=keras.layers.Dense(64,activation='relu')(y3)\n",
    "par3_3=keras.layers.Dense(64,activation='relu')(y3)\n",
    "\n",
    "par4_1=keras.layers.Dense(64,activation='relu')(y5)\n",
    "par4_2=keras.layers.Dense(64,activation='relu')(y5)\n",
    "par4_3=keras.layers.Dense(64,activation='relu')(y5)\n"
   ]
  },
  {
   "cell_type": "code",
   "execution_count": 16,
   "id": "212de56d",
   "metadata": {},
   "outputs": [],
   "source": [
    "P1at = tf.matmul(par1_2,par1_3)\n",
    "sm1_1 = tf.keras.activations.softmax(P1at, axis=-1)\n",
    "sm1_2 = tf.matmul(par1_1,sm1_1)\n",
    "tp= tf.keras.layers.Add()([sm1_2,x1])\n",
    "\n",
    "P2at = tf.matmul(par2_2,par2_3)\n",
    "sm2_1 = tf.keras.activations.softmax(P2at, axis=-1)\n",
    "sm2_2 = tf.matmul(par2_1,sm2_1)\n",
    "tp1= tf.keras.layers.Add()([sm2_2,x2])\n",
    "\n",
    "P3at = tf.matmul(par3_2,par3_3)\n",
    "sm3_1 = tf.keras.activations.softmax(P3at, axis=-1)\n",
    "sm3_2 = tf.matmul(par3_1,sm3_1)\n",
    "tp2= tf.keras.layers.Add()([sm3_2,x3])\n",
    "\n",
    "P4at =tf.matmul(par4_2,par4_3)\n",
    "sm4_1 = tf.keras.activations.softmax(P4at, axis=-1)\n",
    "sm4_2 = tf.matmul(par4_1,sm4_1)\n",
    "tp3= tf.keras.layers.Add()([sm4_2,x5])\n",
    "\n",
    "fin1=keras.layers.Flatten()(tp)\n",
    "fin2=keras.layers.Flatten()(tp1)\n",
    "fin3=keras.layers.Flatten()(tp2)\n",
    "fin4=keras.layers.Flatten()(tp3)\n"
   ]
  },
  {
   "cell_type": "code",
   "execution_count": 19,
   "id": "cc4b2706",
   "metadata": {},
   "outputs": [],
   "source": [
    "output = concatenate([fin1,fin2,fin3,fin4])\n",
    "MSCA = Model(inputs=temp, outputs=output)"
   ]
  },
  {
   "cell_type": "code",
   "execution_count": 20,
   "id": "77baba98",
   "metadata": {
    "scrolled": false
   },
   "outputs": [
    {
     "name": "stdout",
     "output_type": "stream",
     "text": [
      "Model: \"model_2\"\n",
      "__________________________________________________________________________________________________\n",
      " Layer (type)                   Output Shape         Param #     Connected to                     \n",
      "==================================================================================================\n",
      " input_1 (InputLayer)           [(None, 64, 64, 1)]  0           []                               \n",
      "                                                                                                  \n",
      " conv2d (Conv2D)                (None, 64, 64, 32)   1600        ['input_1[0][0]']                \n",
      "                                                                                                  \n",
      " max_pooling2d (MaxPooling2D)   (None, 32, 32, 32)   0           ['conv2d[0][0]']                 \n",
      "                                                                                                  \n",
      " max_pooling2d_1 (MaxPooling2D)  (None, 16, 32, 32)  0           ['max_pooling2d[0][0]']          \n",
      "                                                                                                  \n",
      " conv2d_1 (Conv2D)              (None, 32, 32, 64)   2112        ['max_pooling2d[0][0]']          \n",
      "                                                                                                  \n",
      " conv2d_2 (Conv2D)              (None, 32, 32, 64)   18496       ['max_pooling2d[0][0]']          \n",
      "                                                                                                  \n",
      " conv2d_3 (Conv2D)              (None, 32, 32, 64)   51264       ['max_pooling2d[0][0]']          \n",
      "                                                                                                  \n",
      " conv2d_4 (Conv2D)              (None, 16, 32, 64)   2112        ['max_pooling2d_1[0][0]']        \n",
      "                                                                                                  \n",
      " flatten (Flatten)              (None, 65536)        0           ['conv2d_1[0][0]']               \n",
      "                                                                                                  \n",
      " flatten_1 (Flatten)            (None, 65536)        0           ['conv2d_2[0][0]']               \n",
      "                                                                                                  \n",
      " flatten_2 (Flatten)            (None, 65536)        0           ['conv2d_3[0][0]']               \n",
      "                                                                                                  \n",
      " flatten_3 (Flatten)            (None, 32768)        0           ['conv2d_4[0][0]']               \n",
      "                                                                                                  \n",
      " dense_1 (Dense)                (None, 64)           4194368     ['flatten[0][0]']                \n",
      "                                                                                                  \n",
      " dense_2 (Dense)                (None, 64)           4194368     ['flatten[0][0]']                \n",
      "                                                                                                  \n",
      " dense_4 (Dense)                (None, 64)           4194368     ['flatten_1[0][0]']              \n",
      "                                                                                                  \n",
      " dense_5 (Dense)                (None, 64)           4194368     ['flatten_1[0][0]']              \n",
      "                                                                                                  \n",
      " dense_7 (Dense)                (None, 64)           4194368     ['flatten_2[0][0]']              \n",
      "                                                                                                  \n",
      " dense_8 (Dense)                (None, 64)           4194368     ['flatten_2[0][0]']              \n",
      "                                                                                                  \n",
      " dense_10 (Dense)               (None, 64)           2097216     ['flatten_3[0][0]']              \n",
      "                                                                                                  \n",
      " dense_11 (Dense)               (None, 64)           2097216     ['flatten_3[0][0]']              \n",
      "                                                                                                  \n",
      " tf.linalg.matmul_28 (TFOpLambd  (None, 64)          0           ['dense_1[0][0]',                \n",
      " a)                                                               'dense_2[0][0]']                \n",
      "                                                                                                  \n",
      " tf.linalg.matmul_30 (TFOpLambd  (None, 64)          0           ['dense_4[0][0]',                \n",
      " a)                                                               'dense_5[0][0]']                \n",
      "                                                                                                  \n",
      " tf.linalg.matmul_32 (TFOpLambd  (None, 64)          0           ['dense_7[0][0]',                \n",
      " a)                                                               'dense_8[0][0]']                \n",
      "                                                                                                  \n",
      " tf.linalg.matmul_34 (TFOpLambd  (None, 64)          0           ['dense_10[0][0]',               \n",
      " a)                                                               'dense_11[0][0]']               \n",
      "                                                                                                  \n",
      " dense (Dense)                  (None, 64)           4194368     ['flatten[0][0]']                \n",
      "                                                                                                  \n",
      " tf.nn.softmax_14 (TFOpLambda)  (None, 64)           0           ['tf.linalg.matmul_28[0][0]']    \n",
      "                                                                                                  \n",
      " dense_3 (Dense)                (None, 64)           4194368     ['flatten_1[0][0]']              \n",
      "                                                                                                  \n",
      " tf.nn.softmax_15 (TFOpLambda)  (None, 64)           0           ['tf.linalg.matmul_30[0][0]']    \n",
      "                                                                                                  \n",
      " dense_6 (Dense)                (None, 64)           4194368     ['flatten_2[0][0]']              \n",
      "                                                                                                  \n",
      " tf.nn.softmax_16 (TFOpLambda)  (None, 64)           0           ['tf.linalg.matmul_32[0][0]']    \n",
      "                                                                                                  \n",
      " dense_9 (Dense)                (None, 64)           2097216     ['flatten_3[0][0]']              \n",
      "                                                                                                  \n",
      " tf.nn.softmax_17 (TFOpLambda)  (None, 64)           0           ['tf.linalg.matmul_34[0][0]']    \n",
      "                                                                                                  \n",
      " tf.linalg.matmul_29 (TFOpLambd  (None, 64)          0           ['dense[0][0]',                  \n",
      " a)                                                               'tf.nn.softmax_14[0][0]']       \n",
      "                                                                                                  \n",
      " tf.linalg.matmul_31 (TFOpLambd  (None, 64)          0           ['dense_3[0][0]',                \n",
      " a)                                                               'tf.nn.softmax_15[0][0]']       \n",
      "                                                                                                  \n",
      " tf.linalg.matmul_33 (TFOpLambd  (None, 64)          0           ['dense_6[0][0]',                \n",
      " a)                                                               'tf.nn.softmax_16[0][0]']       \n",
      "                                                                                                  \n",
      " tf.linalg.matmul_35 (TFOpLambd  (None, 64)          0           ['dense_9[0][0]',                \n",
      " a)                                                               'tf.nn.softmax_17[0][0]']       \n",
      "                                                                                                  \n",
      " add_9 (Add)                    (None, 32, 32, 64)   0           ['tf.linalg.matmul_29[0][0]',    \n",
      "                                                                  'conv2d_1[0][0]']               \n",
      "                                                                                                  \n",
      " add_10 (Add)                   (None, 32, 32, 64)   0           ['tf.linalg.matmul_31[0][0]',    \n",
      "                                                                  'conv2d_2[0][0]']               \n",
      "                                                                                                  \n",
      " add_11 (Add)                   (None, 32, 32, 64)   0           ['tf.linalg.matmul_33[0][0]',    \n",
      "                                                                  'conv2d_3[0][0]']               \n",
      "                                                                                                  \n",
      " add_12 (Add)                   (None, 16, 32, 64)   0           ['tf.linalg.matmul_35[0][0]',    \n",
      "                                                                  'conv2d_4[0][0]']               \n",
      "                                                                                                  \n",
      " flatten_12 (Flatten)           (None, 65536)        0           ['add_9[0][0]']                  \n",
      "                                                                                                  \n",
      " flatten_13 (Flatten)           (None, 65536)        0           ['add_10[0][0]']                 \n",
      "                                                                                                  \n",
      " flatten_14 (Flatten)           (None, 65536)        0           ['add_11[0][0]']                 \n",
      "                                                                                                  \n",
      " flatten_15 (Flatten)           (None, 32768)        0           ['add_12[0][0]']                 \n",
      "                                                                                                  \n",
      " concatenate_3 (Concatenate)    (None, 229376)       0           ['flatten_12[0][0]',             \n",
      "                                                                  'flatten_13[0][0]',             \n",
      "                                                                  'flatten_14[0][0]',             \n",
      "                                                                  'flatten_15[0][0]']             \n",
      "                                                                                                  \n",
      "==================================================================================================\n",
      "Total params: 44,116,544\n",
      "Trainable params: 44,116,544\n",
      "Non-trainable params: 0\n",
      "__________________________________________________________________________________________________\n",
      "None\n"
     ]
    }
   ],
   "source": [
    "print(MSCA.summary())\n"
   ]
  },
  {
   "cell_type": "code",
   "execution_count": 61,
   "id": "2d60023d",
   "metadata": {},
   "outputs": [
    {
     "name": "stdout",
     "output_type": "stream",
     "text": [
      "WARNING:tensorflow:Compiled the loaded model, but the compiled metrics have yet to be built. `model.compile_metrics` will be empty until you train or evaluate the model.\n",
      "INFO:tensorflow:Assets written to: C:\\Users\\shaun\\Documents\\Deep learning\\assets\n"
     ]
    }
   ],
   "source": [
    "\n"
   ]
  },
  {
   "cell_type": "code",
   "execution_count": null,
   "id": "27ceb04f",
   "metadata": {},
   "outputs": [],
   "source": []
  }
 ],
 "metadata": {
  "kernelspec": {
   "display_name": "Python 3 (ipykernel)",
   "language": "python",
   "name": "python3"
  },
  "language_info": {
   "codemirror_mode": {
    "name": "ipython",
    "version": 3
   },
   "file_extension": ".py",
   "mimetype": "text/x-python",
   "name": "python",
   "nbconvert_exporter": "python",
   "pygments_lexer": "ipython3",
   "version": "3.8.12"
  }
 },
 "nbformat": 4,
 "nbformat_minor": 5
}
